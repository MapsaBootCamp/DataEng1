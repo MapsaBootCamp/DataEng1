{
 "cells": [
  {
   "cell_type": "code",
   "execution_count": 1,
   "id": "15ead900-56ed-4e8e-aa27-f9d344896cdb",
   "metadata": {},
   "outputs": [],
   "source": [
    "from pyspark.sql import SparkSession"
   ]
  },
  {
   "cell_type": "code",
   "execution_count": 2,
   "id": "7701150f-5f96-4998-824f-a9c34970a356",
   "metadata": {},
   "outputs": [],
   "source": [
    "spark = SparkSession.builder.appName(\"ML_Spark\").getOrCreate()"
   ]
  },
  {
   "cell_type": "code",
   "execution_count": 3,
   "id": "ffcdaadc-280f-473a-a104-40018f2e3455",
   "metadata": {},
   "outputs": [
    {
     "data": {
      "text/html": [
       "\n",
       "            <div>\n",
       "                <p><b>SparkSession - in-memory</b></p>\n",
       "                \n",
       "        <div>\n",
       "            <p><b>SparkContext</b></p>\n",
       "\n",
       "            <p><a href=\"http://192.168.200.159:4041\">Spark UI</a></p>\n",
       "\n",
       "            <dl>\n",
       "              <dt>Version</dt>\n",
       "                <dd><code>v3.3.0</code></dd>\n",
       "              <dt>Master</dt>\n",
       "                <dd><code>local[*]</code></dd>\n",
       "              <dt>AppName</dt>\n",
       "                <dd><code>ML_Spark</code></dd>\n",
       "            </dl>\n",
       "        </div>\n",
       "        \n",
       "            </div>\n",
       "        "
      ],
      "text/plain": [
       "<pyspark.sql.session.SparkSession at 0x7f68caa89ab0>"
      ]
     },
     "execution_count": 3,
     "metadata": {},
     "output_type": "execute_result"
    }
   ],
   "source": [
    "spark"
   ]
  },
  {
   "cell_type": "code",
   "execution_count": 7,
   "id": "ee44c98b-4fa0-4998-aef7-21ddc2745209",
   "metadata": {},
   "outputs": [],
   "source": [
    "filePath = \"./sf-airbnb-clean.parquet\"\n",
    "airbnb_df = spark.read.parquet(filePath)\n",
    "airbnb_df = airbnb_df.select(\"neighbourhood_cleansed\", \"room_type\", \"bedrooms\", \"bathrooms\",\n",
    "\"number_of_reviews\", \"price\")"
   ]
  },
  {
   "cell_type": "code",
   "execution_count": 8,
   "id": "eef80ab8-e03e-4fe4-8ba8-e29c2a0380e5",
   "metadata": {},
   "outputs": [
    {
     "name": "stdout",
     "output_type": "stream",
     "text": [
      "root\n",
      " |-- neighbourhood_cleansed: string (nullable = true)\n",
      " |-- room_type: string (nullable = true)\n",
      " |-- bedrooms: double (nullable = true)\n",
      " |-- bathrooms: double (nullable = true)\n",
      " |-- number_of_reviews: double (nullable = true)\n",
      " |-- price: double (nullable = true)\n",
      "\n"
     ]
    }
   ],
   "source": [
    "airbnb_df.printSchema()"
   ]
  },
  {
   "cell_type": "code",
   "execution_count": 10,
   "id": "92c98085-72bb-4df7-b7e4-48f7f33b128c",
   "metadata": {},
   "outputs": [],
   "source": [
    "train_df, test_df, val_df = airbnb_df.randomSplit([0.7, 0.2, 0.1], seed=42)"
   ]
  },
  {
   "cell_type": "code",
   "execution_count": 13,
   "id": "bbc2fa66-b09a-429e-91a6-2da76a3a94e7",
   "metadata": {},
   "outputs": [
    {
     "data": {
      "text/plain": [
       "5113"
      ]
     },
     "execution_count": 13,
     "metadata": {},
     "output_type": "execute_result"
    }
   ],
   "source": [
    "train_df.count()"
   ]
  },
  {
   "cell_type": "code",
   "execution_count": 37,
   "id": "8958e801-84b4-409e-b849-f97adf48f1f7",
   "metadata": {},
   "outputs": [],
   "source": [
    "from pyspark.ml.feature import VectorAssembler, OneHotEncoder, StringIndexer"
   ]
  },
  {
   "cell_type": "code",
   "execution_count": 41,
   "id": "aab2b859-a187-4ca3-8486-9a8bce69e822",
   "metadata": {},
   "outputs": [
    {
     "data": {
      "text/plain": [
       "[('neighbourhood_cleansed', 'string'),\n",
       " ('room_type', 'string'),\n",
       " ('bedrooms', 'double'),\n",
       " ('bathrooms', 'double'),\n",
       " ('number_of_reviews', 'double'),\n",
       " ('price', 'double')]"
      ]
     },
     "execution_count": 41,
     "metadata": {},
     "output_type": "execute_result"
    }
   ],
   "source": [
    "train_df.dtypes"
   ]
  },
  {
   "cell_type": "code",
   "execution_count": 39,
   "id": "88b7cb9c-164c-4b7f-9dfe-573e04bdc2f2",
   "metadata": {},
   "outputs": [
    {
     "data": {
      "text/plain": [
       "3"
      ]
     },
     "execution_count": 39,
     "metadata": {},
     "output_type": "execute_result"
    }
   ],
   "source": [
    "train_df.select(\"room_type\").distinct().count()"
   ]
  },
  {
   "cell_type": "code",
   "execution_count": 23,
   "id": "63bec054-ab23-445d-be72-d990f0d45dd6",
   "metadata": {},
   "outputs": [],
   "source": [
    "from pyspark.ml.regression import LinearRegression\n",
    "from pyspark.ml import Pipeline"
   ]
  },
  {
   "cell_type": "code",
   "execution_count": 60,
   "id": "e7d639c0-5596-4ea2-979d-c1fab3a97cb7",
   "metadata": {},
   "outputs": [],
   "source": [
    "categoricalCols = [field for (field, dataType) in train_df.dtypes if dataType == \"string\"]\n",
    "indexOutputCols = [x + \"Index\" for x in categoricalCols]\n",
    "oheOutputCols = [x + \"OHE\" for x in categoricalCols]\n",
    "stringIndexer = StringIndexer(inputCols=categoricalCols, outputCols=indexOutputCols, handleInvalid=\"skip\")\n",
    "oheEncoder = OneHotEncoder(inputCols=indexOutputCols, outputCols=oheOutputCols)\n",
    "# oheEncoder.fit(train_df).transform(train_df).select(\"neighbourhood_cleansedIndex\").distinct().count()\n",
    "numericCols = [field for (field, dataType) in train_df.dtypes if ((dataType == \"double\") & (field != \"price\"))]\n",
    "assemblerInputs = oheOutputCols + numericCols\n",
    "vecAssembler = VectorAssembler(inputCols=assemblerInputs, outputCol=\"features\")"
   ]
  },
  {
   "cell_type": "code",
   "execution_count": 71,
   "id": "2934463e-0ebf-42a1-ab1b-c25d5adea55f",
   "metadata": {},
   "outputs": [
    {
     "name": "stdout",
     "output_type": "stream",
     "text": [
      "+--------------------+\n",
      "|            features|\n",
      "+--------------------+\n",
      "|(40,[14,35,38,39]...|\n",
      "+--------------------+\n",
      "only showing top 1 row\n",
      "\n"
     ]
    }
   ],
   "source": [
    "pipline_transformer = Pipeline(stages=[stringIndexer, oheEncoder, vecAssembler])\n",
    "pipline_transformer.fit(train_df).transform(train_df).select(\"features\").show(1)"
   ]
  },
  {
   "cell_type": "code",
   "execution_count": 72,
   "id": "aa01723d-4ee8-4650-9509-4d74e25b9703",
   "metadata": {},
   "outputs": [],
   "source": [
    "lr_model = LinearRegression(featuresCol=\"features\", labelCol=\"price\")\n",
    "pipe = Pipeline(stages=[pipline_transformer, lr_model])"
   ]
  },
  {
   "cell_type": "code",
   "execution_count": 73,
   "id": "29bb0379-e8fa-4853-b833-03fb237a6ac9",
   "metadata": {},
   "outputs": [],
   "source": [
    "model = pipe.fit(train_df)"
   ]
  },
  {
   "cell_type": "code",
   "execution_count": 74,
   "id": "94f97901-39d0-46e3-89df-e113f9f92d2d",
   "metadata": {},
   "outputs": [],
   "source": [
    "predicted = model.transform(test_df)"
   ]
  },
  {
   "cell_type": "code",
   "execution_count": 75,
   "id": "70b6b1e7-5de2-428a-9492-e4fc6e7137bf",
   "metadata": {},
   "outputs": [
    {
     "name": "stdout",
     "output_type": "stream",
     "text": [
      "+-----+------------------+\n",
      "|price|        prediction|\n",
      "+-----+------------------+\n",
      "|115.0| 11.81508168008095|\n",
      "| 95.0|117.92863664099033|\n",
      "| 88.0|115.54216032219242|\n",
      "| 90.0|115.02336112245374|\n",
      "|189.0|113.67448320313318|\n",
      "| 99.0|110.14664864491019|\n",
      "|115.0|109.00529040548508|\n",
      "| 85.0|105.89249520705303|\n",
      "| 78.0|102.57218032872552|\n",
      "|120.0|224.24971128179524|\n",
      "|300.0|224.24971128179524|\n",
      "|120.0|223.73091208205656|\n",
      "|225.0| 222.0707546428928|\n",
      "|167.0|220.20307752383357|\n",
      "|445.0|218.43916024472205|\n",
      "|210.0|208.27069592984398|\n",
      "|110.0|233.63579013469152|\n",
      "|185.0|242.60682962779688|\n",
      "|175.0|  241.776750908215|\n",
      "|120.0|234.92860147166445|\n",
      "+-----+------------------+\n",
      "only showing top 20 rows\n",
      "\n"
     ]
    }
   ],
   "source": [
    "predicted.select(\"price\", \"prediction\").show()"
   ]
  },
  {
   "cell_type": "code",
   "execution_count": 76,
   "id": "43fe6cb8-f02a-4a34-8bb9-cd0c3aedbd91",
   "metadata": {},
   "outputs": [],
   "source": [
    "from pyspark.ml.evaluation import RegressionEvaluator"
   ]
  },
  {
   "cell_type": "code",
   "execution_count": 77,
   "id": "ebd4ef67-43cd-4a40-a14e-a65f21079761",
   "metadata": {},
   "outputs": [],
   "source": [
    "regression_evaluator = RegressionEvaluator(predictionCol=\"prediction\", labelCol=\"price\", metricName=\"r2\")"
   ]
  },
  {
   "cell_type": "code",
   "execution_count": 78,
   "id": "61946b26-df6d-4a9e-82a5-b77f6e8cfbc0",
   "metadata": {},
   "outputs": [
    {
     "data": {
      "text/plain": [
       "0.14878369065869523"
      ]
     },
     "execution_count": 78,
     "metadata": {},
     "output_type": "execute_result"
    }
   ],
   "source": [
    "regression_evaluator.evaluate(predicted)"
   ]
  }
 ],
 "metadata": {
  "kernelspec": {
   "display_name": "Python 3 (ipykernel)",
   "language": "python",
   "name": "python3"
  },
  "language_info": {
   "codemirror_mode": {
    "name": "ipython",
    "version": 3
   },
   "file_extension": ".py",
   "mimetype": "text/x-python",
   "name": "python",
   "nbconvert_exporter": "python",
   "pygments_lexer": "ipython3",
   "version": "3.10.6"
  }
 },
 "nbformat": 4,
 "nbformat_minor": 5
}
